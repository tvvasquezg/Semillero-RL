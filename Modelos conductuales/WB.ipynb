{
 "cells": [
  {
   "cell_type": "code",
   "execution_count": 3,
   "id": "f2f476ce",
   "metadata": {},
   "outputs": [],
   "source": [
    "import sympy as sp"
   ]
  },
  {
   "cell_type": "code",
   "execution_count": 4,
   "id": "c65fcdf8",
   "metadata": {},
   "outputs": [],
   "source": [
    "lamnda = 100 #magnitid del EI en un ensayo determinado (Si el EI esta se le da un valor de 100)\n",
    "V = 0 # Es la magnitud del EI que se esperaba\n",
    "k = 0.4 # poder asociativo que tiene EC y el EI que tan saliente es rango (0,1)\n",
    "deltaV = 1 #Es el incremento de la fuerza del estimulo condicionado en ese ensayo}\n",
    "ensayos = []\n",
    "ii =[]"
   ]
  },
  {
   "cell_type": "code",
   "execution_count": 5,
   "id": "506775ba",
   "metadata": {},
   "outputs": [
    {
     "name": "stdout",
     "output_type": "stream",
     "text": [
      "100\n"
     ]
    }
   ],
   "source": [
    "sorpresa = lamnda - V \n",
    "print(sorpresa)\n",
    "def modelo(lamnda,V,k):\n",
    "    for i in range(101):\n",
    "        deltaV = k*(lamnda - V)\n",
    "        #print(deltaV)\n",
    "        ensayos.append(V)\n",
    "        ii.append(i)        \n",
    "        V = V + deltaV\n",
    "modelo(lamnda,V,k)"
   ]
  },
  {
   "cell_type": "code",
   "execution_count": 6,
   "id": "2de01448",
   "metadata": {},
   "outputs": [],
   "source": [
    "import matplotlib.pyplot as plt "
   ]
  },
  {
   "cell_type": "code",
   "execution_count": 7,
   "id": "a47484c3",
   "metadata": {},
   "outputs": [
    {
     "data": {
      "image/png": "[encoded data removed]",
      "text/plain": [
       "<Figure size 432x288 with 1 Axes>"
      ]
     },
     "metadata": {
      "needs_background": "light"
     },
     "output_type": "display_data"
    }
   ],
   "source": [
    "plt.plot(ii,ensayos)\n",
    "plt.show()"
   ]
  },
  {
   "cell_type": "code",
   "execution_count": 9,
   "id": "460117b8",
   "metadata": {},
   "outputs": [],
   "source": [
    "ensayos = []\n",
    "ii = []\n",
    "modelo(0,100,k)"
   ]
  },
  {
   "cell_type": "code",
   "execution_count": 10,
   "id": "2219f721",
   "metadata": {},
   "outputs": [
    {
     "data": {
      "image/png": "[encoded data removed]",
      "text/plain": [
       "<Figure size 432x288 with 1 Axes>"
      ]
     },
     "metadata": {
      "needs_background": "light"
     },
     "output_type": "display_data"
    }
   ],
   "source": [
    "plt.plot(ii,ensayos)\n",
    "plt.show()"
   ]
  }
 ],
 "metadata": {
  "kernelspec": {
   "display_name": "Python 3 (ipykernel)",
   "language": "python",
   "name": "python3"
  },
  "language_info": {
   "codemirror_mode": {
    "name": "ipython",
    "version": 3
   },
   "file_extension": ".py",
   "mimetype": "text/x-python",
   "name": "python",
   "nbconvert_exporter": "python",
   "pygments_lexer": "ipython3",
   "version": "3.9.7"
  }
 },
 "nbformat": 4,
 "nbformat_minor": 5
}
